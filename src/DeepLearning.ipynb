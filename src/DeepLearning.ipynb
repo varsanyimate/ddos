{
 "cells": [
  {
   "cell_type": "code",
   "execution_count": 1,
   "id": "6efadfd2-1644-4ac3-9bbf-7021e957e28b",
   "metadata": {},
   "outputs": [
    {
     "name": "stdout",
     "output_type": "stream",
     "text": [
      "\u001b[33mWARNING: Running pip as the 'root' user can result in broken permissions and conflicting behaviour with the system package manager. It is recommended to use a virtual environment instead: https://pip.pypa.io/warnings/venv\u001b[0m\u001b[33m\n",
      "\u001b[0m"
     ]
    }
   ],
   "source": [
    "!pip install -q wandb"
   ]
  },
  {
   "cell_type": "code",
   "execution_count": 2,
   "id": "1c466cdc-d557-475a-a11a-280d198b9dfa",
   "metadata": {},
   "outputs": [],
   "source": [
    "import torch\n",
    "import torch.nn.functional as F\n",
    "import torch.nn as nn\n",
    "import torchvision\n",
    "from torchvision import transforms\n",
    "from torch.utils.data import TensorDataset, DataLoader\n",
    "import pytorch_lightning as pl\n",
    "import torchmetrics\n",
    "import matplotlib.pyplot as plt\n",
    "import wandb\n",
    "import pandas as pd\n",
    "import numpy as np\n",
    "import seaborn as sns\n",
    "import os\n",
    "from sklearn.model_selection import train_test_split\n",
    "from sklearn.preprocessing import StandardScaler\n",
    "from sklearn.preprocessing import LabelEncoder\n",
    "from sklearn.metrics import classification_report, accuracy_score, confusion_matrix, recall_score, precision_score, f1_score"
   ]
  },
  {
   "cell_type": "code",
   "execution_count": null,
   "id": "d1627cec-09bf-4caf-a7aa-b73b8e40a442",
   "metadata": {},
   "outputs": [],
   "source": [
    "os.environ[\"WANDB_MODE\"] = \"offline\""
   ]
  },
  {
   "cell_type": "code",
   "execution_count": null,
   "id": "09b2363d-6a81-42a3-b6c2-cd2cd4fca86c",
   "metadata": {},
   "outputs": [],
   "source": [
    "device = torch.device(\"cuda\" if torch.cuda.is_available() else \"cpu\")\n",
    "print(f\"Using device: {device}\")"
   ]
  },
  {
   "cell_type": "code",
   "execution_count": null,
   "id": "d34539c0-f53c-4be1-9882-9b49491bda07",
   "metadata": {},
   "outputs": [],
   "source": [
    "pl.seed_everything(42, workers=True)"
   ]
  },
  {
   "cell_type": "code",
   "execution_count": null,
   "id": "08531c3c-7bbc-45fa-abaa-1b707ffc2bc5",
   "metadata": {},
   "outputs": [],
   "source": [
    "os.makedirs(\"checkpoints\", exist_ok=True)"
   ]
  },
  {
   "cell_type": "code",
   "execution_count": 3,
   "id": "397aabf0-abb3-40b6-b4a1-57f36d9fde6a",
   "metadata": {},
   "outputs": [],
   "source": [
    "train_df = pd.read_csv('./train_data.csv')\n",
    "val_df = pd.read_csv('./validation_data.csv')\n",
    "test_df = pd.read_csv('./test_data.csv')\n",
    "feature_cols = ['Packet speed', 'Data speed', 'Packet Rate', 'Data Rate', 'Packet Size to Speed Ratio', 'Data to Packet Ratio',\n",
    "                'Duration', 'Hour sin', 'Hour cos', 'Day of Week','Unique ports', 'Std packet speed', 'Max packet speed', \n",
    "                'Std data speed', 'Max data speed', 'Std packet length', 'Max packet length',\n",
    "                'Std source IP count', 'Max source IP count', 'Mean time diff', 'Std time diff','pca_1','pca_2']\n",
    "\n",
    "features_selected = ['Data to Packet Ratio', 'Packet Size to Speed Ratio', 'Packet speed', 'Data speed', 'Max packet length', 'Hour cos', 'Day of Week', 'Std packet length', 'Unique ports']\n",
    "X_train = train_df[features_selected]\n",
    "y_train = train_df['Type']\n",
    "X_val = val_df[features_selected]\n",
    "y_val = val_df['Type']\n",
    "X_test = test_df[features_selected]\n",
    "y_test = test_df['Type']\n",
    "le = LabelEncoder()\n",
    "y_test = le.fit_transform(y_test)\n",
    "y_train = le.fit_transform(y_train)\n",
    "y_val = le.fit_transform(y_val)\n",
    "scaler = StandardScaler()"
   ]
  },
  {
   "cell_type": "code",
   "execution_count": 4,
   "id": "332aca8f-4648-47be-a1b0-2aa2265ecf5d",
   "metadata": {},
   "outputs": [],
   "source": [
    "batch_size = 256\n",
    "num_epochs = 20\n",
    "lr = 0.002\n",
    "hidden_dim = 64"
   ]
  },
  {
   "cell_type": "code",
   "execution_count": null,
   "id": "34daab19-117a-4a4b-b72b-f5906b637bc8",
   "metadata": {},
   "outputs": [],
   "source": [
    "num_workers = min(8, os.cpu_count())\n",
    "pin_memory = torch.cuda.is_available()"
   ]
  },
  {
   "cell_type": "code",
   "execution_count": 5,
   "id": "f2869925-6740-40b2-a3df-9f5817b717dc",
   "metadata": {},
   "outputs": [],
   "source": [
    "def create_dataloader(X, y, batch_size=batch_size, num_workers=num_workers, pin_memory=pin_memory, fit_scaler=False):\n",
    "    if fit_scaler:\n",
    "        scaler.fit(X)\n",
    "    X = scaler.transform(X).astype('float32')\n",
    "    X = torch.from_numpy(X)\n",
    "    y = y.astype('long')\n",
    "    y = torch.from_numpy(y)\n",
    "    dataset = TensorDataset(X, y)\n",
    "    return DataLoader(dataset, batch_size=batch_size, shuffle=True, num_workers=num_workers, pin_memory=pin_memory)\n",
    "\n",
    "train_loader = create_dataloader(X_train, y_train, fit_scaler=True)\n",
    "val_loader = create_dataloader(X_val, y_val)\n",
    "test_loader = create_dataloader(X_test, y_test)"
   ]
  },
  {
   "cell_type": "code",
   "execution_count": 6,
   "id": "1425e6bd-a7f5-43e2-9953-55d76606275f",
   "metadata": {},
   "outputs": [],
   "source": [
    "class FeedForwardNet(pl.LightningModule):\n",
    "    def __init__(self, num_features, hidden_dim, lr, num_classes=3, dropout_prob=0.3):\n",
    "        super().__init__()\n",
    "        self.save_hyperparameters()\n",
    "        self.lr = lr\n",
    "        self.num_classes = num_classes\n",
    "\n",
    "        self.layers = nn.Sequential(\n",
    "            nn.Linear(num_features, hidden_dim),\n",
    "            nn.BatchNorm1d(hidden_dim),\n",
    "            nn.ReLU(),\n",
    "            nn.Dropout(dropout_prob),\n",
    "\n",
    "            nn.Linear(hidden_dim, hidden_dim),\n",
    "            nn.BatchNorm1d(hidden_dim),\n",
    "            nn.ReLU(),\n",
    "            nn.Dropout(dropout_prob),\n",
    "\n",
    "            nn.Linear(hidden_dim, num_classes)\n",
    "        )\n",
    "\n",
    "        self.loss = nn.CrossEntropyLoss()\n",
    "        self.acc = torchmetrics.classification.Accuracy(task=\"multiclass\", num_classes=num_classes)\n",
    "\n",
    "    def forward(self, x):\n",
    "        return self.layers(x)\n",
    "\n",
    "    def _shared_eval_step(self, batch):\n",
    "        x, y = batch\n",
    "        logits = self(x)\n",
    "        loss = self.loss(logits, y)\n",
    "        preds = torch.argmax(logits, dim=1)\n",
    "        acc = self.acc(preds, y)\n",
    "        return loss, acc\n",
    "\n",
    "    def training_step(self, batch, batch_idx):\n",
    "        loss, acc = self._shared_eval_step(batch)\n",
    "        self.log_dict({\"loss\": loss, \"acc\": acc}, prog_bar=True)\n",
    "        return loss\n",
    "\n",
    "    def validation_step(self, batch, batch_idx):\n",
    "        loss, acc = self._shared_eval_step(batch)\n",
    "        self.log_dict({\"val_loss\": loss, \"val_acc\": acc}, prog_bar=True)\n",
    "\n",
    "    def test_step(self, batch, batch_idx):\n",
    "        loss, acc = self._shared_eval_step(batch)\n",
    "        self.log_dict({\"test_loss\": loss, \"test_acc\": acc})\n",
    "\n",
    "    def configure_optimizers(self):\n",
    "        return torch.optim.AdamW(self.parameters(), lr=self.lr)"
   ]
  },
  {
   "cell_type": "code",
   "execution_count": 7,
   "id": "0d3f8236-8c8e-4f73-ba7f-34ee72e8ef14",
   "metadata": {},
   "outputs": [
    {
     "name": "stderr",
     "output_type": "stream",
     "text": [
      "\u001b[34m\u001b[1mwandb\u001b[0m: Currently logged in as: \u001b[33mbaczodomonkos\u001b[0m (\u001b[33mbaczodomonkos-budapesti-m-szaki-s-gazdas-gtudom-nyi-egyetem\u001b[0m) to \u001b[32mhttps://api.wandb.ai\u001b[0m. Use \u001b[1m`wandb login --relogin`\u001b[0m to force relogin\n"
     ]
    },
    {
     "data": {
      "text/plain": [
       "True"
      ]
     },
     "execution_count": 7,
     "metadata": {},
     "output_type": "execute_result"
    }
   ],
   "source": [
    "# wandb.login()"
   ]
  },
  {
   "cell_type": "code",
   "execution_count": 9,
   "id": "89e3d2d8-d6c3-41c2-b156-3c6e70f4e791",
   "metadata": {},
   "outputs": [
    {
     "name": "stderr",
     "output_type": "stream",
     "text": [
      "Using 16bit Automatic Mixed Precision (AMP)\n",
      "GPU available: True (cuda), used: True\n",
      "TPU available: False, using: 0 TPU cores\n",
      "HPU available: False, using: 0 HPUs\n"
     ]
    },
    {
     "data": {
      "text/html": [
       "creating run (0.6s)"
      ],
      "text/plain": [
       "<IPython.core.display.HTML object>"
      ]
     },
     "metadata": {},
     "output_type": "display_data"
    },
    {
     "data": {
      "text/html": [
       "Tracking run with wandb version 0.19.10"
      ],
      "text/plain": [
       "<IPython.core.display.HTML object>"
      ]
     },
     "metadata": {},
     "output_type": "display_data"
    },
    {
     "data": {
      "text/html": [
       "Run data is saved locally in <code>./wandb/run-20250428_114144-vv6102kj</code>"
      ],
      "text/plain": [
       "<IPython.core.display.HTML object>"
      ]
     },
     "metadata": {},
     "output_type": "display_data"
    },
    {
     "data": {
      "text/html": [
       "Syncing run <strong><a href='https://wandb.ai/baczodomonkos-budapesti-m-szaki-s-gazdas-gtudom-nyi-egyetem/ddos_classifier_dl2/runs/vv6102kj' target=\"_blank\">solar-mountain-1</a></strong> to <a href='https://wandb.ai/baczodomonkos-budapesti-m-szaki-s-gazdas-gtudom-nyi-egyetem/ddos_classifier_dl2' target=\"_blank\">Weights & Biases</a> (<a href='https://wandb.me/developer-guide' target=\"_blank\">docs</a>)<br>"
      ],
      "text/plain": [
       "<IPython.core.display.HTML object>"
      ]
     },
     "metadata": {},
     "output_type": "display_data"
    },
    {
     "data": {
      "text/html": [
       " View project at <a href='https://wandb.ai/baczodomonkos-budapesti-m-szaki-s-gazdas-gtudom-nyi-egyetem/ddos_classifier_dl2' target=\"_blank\">https://wandb.ai/baczodomonkos-budapesti-m-szaki-s-gazdas-gtudom-nyi-egyetem/ddos_classifier_dl2</a>"
      ],
      "text/plain": [
       "<IPython.core.display.HTML object>"
      ]
     },
     "metadata": {},
     "output_type": "display_data"
    },
    {
     "data": {
      "text/html": [
       " View run at <a href='https://wandb.ai/baczodomonkos-budapesti-m-szaki-s-gazdas-gtudom-nyi-egyetem/ddos_classifier_dl2/runs/vv6102kj' target=\"_blank\">https://wandb.ai/baczodomonkos-budapesti-m-szaki-s-gazdas-gtudom-nyi-egyetem/ddos_classifier_dl2/runs/vv6102kj</a>"
      ],
      "text/plain": [
       "<IPython.core.display.HTML object>"
      ]
     },
     "metadata": {},
     "output_type": "display_data"
    },
    {
     "name": "stderr",
     "output_type": "stream",
     "text": [
      "LOCAL_RANK: 0 - CUDA_VISIBLE_DEVICES: [0,1]\n",
      "\n",
      "  | Name   | Type               | Params | Mode \n",
      "------------------------------------------------------\n",
      "0 | layers | Sequential         | 5.3 K  | train\n",
      "1 | loss   | CrossEntropyLoss   | 0      | train\n",
      "2 | acc    | MulticlassAccuracy | 0      | train\n",
      "------------------------------------------------------\n",
      "5.3 K     Trainable params\n",
      "0         Non-trainable params\n",
      "5.3 K     Total params\n",
      "0.021     Total estimated model params size (MB)\n",
      "12        Modules in train mode\n",
      "0         Modules in eval mode\n",
      "/opt/conda/lib/python3.10/site-packages/pytorch_lightning/trainer/connectors/data_connector.py:476: Your `val_dataloader`'s sampler has shuffling enabled, it is strongly recommended that you turn shuffling off for val/test dataloaders.\n",
      "`Trainer.fit` stopped: `max_epochs=10` reached.\n",
      "LOCAL_RANK: 0 - CUDA_VISIBLE_DEVICES: [0,1]\n",
      "/opt/conda/lib/python3.10/site-packages/pytorch_lightning/trainer/connectors/data_connector.py:476: Your `test_dataloader`'s sampler has shuffling enabled, it is strongly recommended that you turn shuffling off for val/test dataloaders.\n"
     ]
    },
    {
     "data": {
      "text/html": [
       "<pre style=\"white-space:pre;overflow-x:auto;line-height:normal;font-family:Menlo,'DejaVu Sans Mono',consolas,'Courier New',monospace\">┏━━━━━━━━━━━━━━━━━━━━━━━━━━━┳━━━━━━━━━━━━━━━━━━━━━━━━━━━┓\n",
       "┃<span style=\"font-weight: bold\">        Test metric        </span>┃<span style=\"font-weight: bold\">       DataLoader 0        </span>┃\n",
       "┡━━━━━━━━━━━━━━━━━━━━━━━━━━━╇━━━━━━━━━━━━━━━━━━━━━━━━━━━┩\n",
       "│<span style=\"color: #008080; text-decoration-color: #008080\">         test_acc          </span>│<span style=\"color: #800080; text-decoration-color: #800080\">    0.9139816164970398     </span>│\n",
       "│<span style=\"color: #008080; text-decoration-color: #008080\">         test_loss         </span>│<span style=\"color: #800080; text-decoration-color: #800080\">    0.42754319310188293    </span>│\n",
       "└───────────────────────────┴───────────────────────────┘\n",
       "</pre>\n"
      ],
      "text/plain": [
       "┏━━━━━━━━━━━━━━━━━━━━━━━━━━━┳━━━━━━━━━━━━━━━━━━━━━━━━━━━┓\n",
       "┃\u001b[1m \u001b[0m\u001b[1m       Test metric       \u001b[0m\u001b[1m \u001b[0m┃\u001b[1m \u001b[0m\u001b[1m      DataLoader 0       \u001b[0m\u001b[1m \u001b[0m┃\n",
       "┡━━━━━━━━━━━━━━━━━━━━━━━━━━━╇━━━━━━━━━━━━━━━━━━━━━━━━━━━┩\n",
       "│\u001b[36m \u001b[0m\u001b[36m        test_acc         \u001b[0m\u001b[36m \u001b[0m│\u001b[35m \u001b[0m\u001b[35m   0.9139816164970398    \u001b[0m\u001b[35m \u001b[0m│\n",
       "│\u001b[36m \u001b[0m\u001b[36m        test_loss        \u001b[0m\u001b[36m \u001b[0m│\u001b[35m \u001b[0m\u001b[35m   0.42754319310188293   \u001b[0m\u001b[35m \u001b[0m│\n",
       "└───────────────────────────┴───────────────────────────┘\n"
      ]
     },
     "metadata": {},
     "output_type": "display_data"
    },
    {
     "data": {
      "text/html": [],
      "text/plain": [
       "<IPython.core.display.HTML object>"
      ]
     },
     "metadata": {},
     "output_type": "display_data"
    },
    {
     "data": {
      "text/html": [
       "<br>    <style><br>        .wandb-row {<br>            display: flex;<br>            flex-direction: row;<br>            flex-wrap: wrap;<br>            justify-content: flex-start;<br>            width: 100%;<br>        }<br>        .wandb-col {<br>            display: flex;<br>            flex-direction: column;<br>            flex-basis: 100%;<br>            flex: 1;<br>            padding: 10px;<br>        }<br>    </style><br><div class=\"wandb-row\"><div class=\"wandb-col\"><h3>Run history:</h3><br/><table class=\"wandb\"><tr><td>acc</td><td>▃▂▁▁▄▅▆▆▆▄▄▅▅▄▃█▇▆▅▆▆█▇▃▅▅▇▆▆▄▇▅▆▅▄▄▆▇█▃</td></tr><tr><td>epoch</td><td>▁▁▁▁▁▂▂▂▂▂▃▃▃▃▃▃▃▃▄▄▄▅▅▅▅▆▆▆▆▆▆▆▆▇▇▇▇▇██</td></tr><tr><td>loss</td><td>▅▃▂▃▅▃▂▃▂▄▃▂▁▂▆▂▃▃▄▄▂▃▂▂▂▄▆▃▃▄█▂▄▂▂▂▃▃▄▂</td></tr><tr><td>test_acc</td><td>▁</td></tr><tr><td>test_loss</td><td>▁</td></tr><tr><td>trainer/global_step</td><td>▁▁▂▂▂▂▂▂▃▃▃▃▄▄▄▄▄▄▄▄▅▅▅▅▅▆▆▆▆▆▆▆▇▇▇▇▇▇██</td></tr><tr><td>val_acc</td><td>█▁▂▁▁▂▁▂▅▂</td></tr><tr><td>val_loss</td><td>▁▄▂▄▃▃█▅▂▆</td></tr></table><br/></div><div class=\"wandb-col\"><h3>Run summary:</h3><br/><table class=\"wandb\"><tr><td>acc</td><td>0.98438</td></tr><tr><td>epoch</td><td>10</td></tr><tr><td>loss</td><td>0.08363</td></tr><tr><td>test_acc</td><td>0.91398</td></tr><tr><td>test_loss</td><td>0.42754</td></tr><tr><td>trainer/global_step</td><td>41370</td></tr><tr><td>val_acc</td><td>0.94312</td></tr><tr><td>val_loss</td><td>0.23242</td></tr></table><br/></div></div>"
      ],
      "text/plain": [
       "<IPython.core.display.HTML object>"
      ]
     },
     "metadata": {},
     "output_type": "display_data"
    },
    {
     "data": {
      "text/html": [
       " View run <strong style=\"color:#cdcd00\">solar-mountain-1</strong> at: <a href='https://wandb.ai/baczodomonkos-budapesti-m-szaki-s-gazdas-gtudom-nyi-egyetem/ddos_classifier_dl2/runs/vv6102kj' target=\"_blank\">https://wandb.ai/baczodomonkos-budapesti-m-szaki-s-gazdas-gtudom-nyi-egyetem/ddos_classifier_dl2/runs/vv6102kj</a><br> View project at: <a href='https://wandb.ai/baczodomonkos-budapesti-m-szaki-s-gazdas-gtudom-nyi-egyetem/ddos_classifier_dl2' target=\"_blank\">https://wandb.ai/baczodomonkos-budapesti-m-szaki-s-gazdas-gtudom-nyi-egyetem/ddos_classifier_dl2</a><br>Synced 5 W&B file(s), 0 media file(s), 2 artifact file(s) and 0 other file(s)"
      ],
      "text/plain": [
       "<IPython.core.display.HTML object>"
      ]
     },
     "metadata": {},
     "output_type": "display_data"
    },
    {
     "data": {
      "text/html": [
       "Find logs at: <code>./wandb/run-20250428_114144-vv6102kj/logs</code>"
      ],
      "text/plain": [
       "<IPython.core.display.HTML object>"
      ]
     },
     "metadata": {},
     "output_type": "display_data"
    }
   ],
   "source": [
    "torch.set_float32_matmul_precision('high')\n",
    "model = FeedForwardNet(num_features=X_train.shape[1], hidden_dim=hidden_dim, lr=lr).to(device)\n",
    "wandb_logger = pl.loggers.WandbLogger(project=\"ddos_classifier_dl2\", log_model=\"all\")\n",
    "checkpoint_callback = pl.callbacks.ModelCheckpoint(\n",
    "    monitor=\"val_acc\", mode=\"max\", save_top_k=1, dirpath=\"checkpoints\", filename=\"best_model\"\n",
    ")\n",
    "\n",
    "trainer = pl.Trainer(\n",
    "    max_epochs=num_epochs,\n",
    "    accelerator=\"gpu\" if torch.cuda.is_available() else \"cpu\",\n",
    "    devices=1 if torch.cuda.is_available() else None,\n",
    "    precision=\"16-mixed\" if torch.cuda.is_available() else 32,\n",
    "    deterministic=True,\n",
    "    logger=wandb_logger,\n",
    "    callbacks=[checkpoint_callback],\n",
    ")\n",
    "\n",
    "trainer.fit(model, train_loader, val_loader)\n",
    "trainer.test(model, test_loader)"
   ]
  },
  {
   "cell_type": "code",
   "execution_count": null,
   "id": "42bb238c-fbfb-4ffb-9ff3-d2df22ea04cb",
   "metadata": {},
   "outputs": [],
   "source": [
    "wandb.finish()"
   ]
  },
  {
   "cell_type": "code",
   "execution_count": 10,
   "id": "f790061c-df77-4f82-a97f-4fa2432fef38",
   "metadata": {
    "scrolled": true
   },
   "outputs": [
    {
     "name": "stdout",
     "output_type": "stream",
     "text": [
      "              precision    recall  f1-score   support\n",
      "\n",
      "           0       0.76      0.36      0.49     14733\n",
      "           1       0.92      1.00      0.96    394482\n",
      "           2       0.54      0.01      0.01     28424\n",
      "\n",
      "    accuracy                           0.91    437639\n",
      "   macro avg       0.74      0.46      0.49    437639\n",
      "weighted avg       0.89      0.91      0.88    437639\n",
      "\n"
     ]
    }
   ],
   "source": [
    "model.eval()\n",
    "all_preds, all_targets = [], []\n",
    "\n",
    "with torch.no_grad():\n",
    "    for batch in test_loader:\n",
    "        x, y = batch\n",
    "        logits = model(x)\n",
    "        preds = torch.argmax(logits, dim=1)\n",
    "        all_preds.append(preds.cpu())\n",
    "        all_targets.append(y.cpu())\n",
    "\n",
    "y_pred = torch.cat(all_preds).numpy()\n",
    "y_true = torch.cat(all_targets).numpy()\n",
    "print(classification_report(y_true, y_pred))"
   ]
  },
  {
   "cell_type": "markdown",
   "id": "c242a625-e0af-4aac-9e48-87c0c68bd704",
   "metadata": {},
   "source": [
    "## Hiperparaméter optimalizáció"
   ]
  },
  {
   "cell_type": "code",
   "execution_count": null,
   "id": "7bf699fb-93b6-4426-b1aa-cda513449a8a",
   "metadata": {},
   "outputs": [],
   "source": [
    "RUN_SWEEP = False"
   ]
  }
 ],
 "metadata": {
  "kernelspec": {
   "display_name": "Python 3 (ipykernel)",
   "language": "python",
   "name": "python3"
  },
  "language_info": {
   "codemirror_mode": {
    "name": "ipython",
    "version": 3
   },
   "file_extension": ".py",
   "mimetype": "text/x-python",
   "name": "python",
   "nbconvert_exporter": "python",
   "pygments_lexer": "ipython3",
   "version": "3.10.13"
  }
 },
 "nbformat": 4,
 "nbformat_minor": 5
}
