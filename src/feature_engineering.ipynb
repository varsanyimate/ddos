{
 "cells": [
  {
   "cell_type": "code",
   "execution_count": 1,
   "metadata": {},
   "outputs": [],
   "source": [
    "#!pip install umap-learn"
   ]
  },
  {
   "cell_type": "code",
   "execution_count": 2,
   "metadata": {
    "scrolled": true
   },
   "outputs": [],
   "source": [
    "#!pip install xgboost catboost"
   ]
  },
  {
   "cell_type": "code",
   "execution_count": 3,
   "metadata": {},
   "outputs": [],
   "source": [
    "#!pip install -U scikit-learn"
   ]
  },
  {
   "cell_type": "code",
   "execution_count": 4,
   "metadata": {},
   "outputs": [],
   "source": [
    "import pandas as pd\n",
    "import numpy as np\n",
    "import matplotlib.pyplot as plt\n",
    "import seaborn as sns"
   ]
  },
  {
   "cell_type": "code",
   "execution_count": 5,
   "metadata": {},
   "outputs": [],
   "source": [
    "df_A_events = pd.read_csv('../datasets/df_A_events.csv')\n",
    "df_B_events = pd.read_csv('../datasets/df_B_events.csv')\n",
    "df_C_events = pd.read_csv('../datasets/df_C_events.csv')\n",
    "df_D_events = pd.read_csv('../datasets/df_D_events.csv')\n",
    "\n",
    "csvs = [df_A_events, df_B_events, df_C_events, df_D_events]"
   ]
  },
  {
   "cell_type": "code",
   "execution_count": 6,
   "metadata": {},
   "outputs": [],
   "source": [
    "for df in csvs:\n",
    "    #TIME FEATURES\n",
    "    df['Start time'] = pd.to_datetime(df['Start time'])\n",
    "    df['End time'] = pd.to_datetime(df['End time'])\n",
    "    df['Hour'] = df['Start time'].dt.hour\n",
    "    df['Hour sin'] = np.sin(df['Hour'] * (2. * np.pi / 24))\n",
    "    df['Hour cos'] = np.cos(df['Hour'] * (2. * np.pi / 24))\n",
    "    df['Day of Week'] = df['Start time'].dt.dayofweek\n",
    "    df['Duration'] = (df['End time'] - df['Start time']).dt.total_seconds()\n",
    "    #events under 1 second would be 0 duration, so we set them to 0.5\n",
    "    df.loc[df['Duration'] == 0, 'Duration'] = 0.5\n",
    "\n",
    "    #DERIVED FEATURES\n",
    "    df['Packet Rate'] = df['Packet speed'] / df['Duration']\n",
    "    df['Data Rate'] = df['Data speed'] / df['Duration']\n",
    "    df['Packet Size to Speed Ratio'] = df['Avg packet len'] / df['Packet speed']\n",
    "    df['Data to Packet Ratio'] = df['Data speed'] / df['Packet speed']  \n",
    "\n",
    "    #NORMALIZE\n",
    "    df['Packet speed'] = (df['Packet speed'] - df['Packet speed'].min()) / (df['Packet speed'].max() - df['Packet speed'].min())\n",
    "    df['Data speed'] = (df['Data speed'] - df['Data speed'].min()) / (df['Data speed'].max() - df['Data speed'].min())\n",
    "\n",
    "\n",
    "feature_cols = ['Packet speed', 'Data speed', 'Packet Rate', 'Data Rate', 'Packet Size to Speed Ratio', 'Data to Packet Ratio','Duration', 'Hour sin', 'Hour cos', 'Day of Week']\n",
    "\n",
    "\n",
    " "
   ]
  },
  {
   "cell_type": "code",
   "execution_count": 7,
   "metadata": {},
   "outputs": [
    {
     "data": {
      "text/html": [
       "<div>\n",
       "<style scoped>\n",
       "    .dataframe tbody tr th:only-of-type {\n",
       "        vertical-align: middle;\n",
       "    }\n",
       "\n",
       "    .dataframe tbody tr th {\n",
       "        vertical-align: top;\n",
       "    }\n",
       "\n",
       "    .dataframe thead th {\n",
       "        text-align: right;\n",
       "    }\n",
       "</style>\n",
       "<table border=\"1\" class=\"dataframe\">\n",
       "  <thead>\n",
       "    <tr style=\"text-align: right;\">\n",
       "      <th></th>\n",
       "      <th>Packet speed</th>\n",
       "      <th>Data speed</th>\n",
       "      <th>Packet Rate</th>\n",
       "      <th>Data Rate</th>\n",
       "      <th>Packet Size to Speed Ratio</th>\n",
       "      <th>Data to Packet Ratio</th>\n",
       "      <th>Duration</th>\n",
       "      <th>Hour sin</th>\n",
       "      <th>Hour cos</th>\n",
       "      <th>Day of Week</th>\n",
       "    </tr>\n",
       "  </thead>\n",
       "  <tbody>\n",
       "    <tr>\n",
       "      <th>0</th>\n",
       "      <td>0.012829</td>\n",
       "      <td>0.035732</td>\n",
       "      <td>55600.000000</td>\n",
       "      <td>73.000000</td>\n",
       "      <td>0.024874</td>\n",
       "      <td>0.001313</td>\n",
       "      <td>1.0</td>\n",
       "      <td>-1.0</td>\n",
       "      <td>-1.836970e-16</td>\n",
       "      <td>0</td>\n",
       "    </tr>\n",
       "    <tr>\n",
       "      <th>1</th>\n",
       "      <td>0.015076</td>\n",
       "      <td>0.044053</td>\n",
       "      <td>127000.000000</td>\n",
       "      <td>180.000000</td>\n",
       "      <td>0.023717</td>\n",
       "      <td>0.001417</td>\n",
       "      <td>0.5</td>\n",
       "      <td>-1.0</td>\n",
       "      <td>-1.836970e-16</td>\n",
       "      <td>0</td>\n",
       "    </tr>\n",
       "    <tr>\n",
       "      <th>2</th>\n",
       "      <td>0.014848</td>\n",
       "      <td>0.040137</td>\n",
       "      <td>62700.000000</td>\n",
       "      <td>82.000000</td>\n",
       "      <td>0.022313</td>\n",
       "      <td>0.001308</td>\n",
       "      <td>1.0</td>\n",
       "      <td>-1.0</td>\n",
       "      <td>-1.836970e-16</td>\n",
       "      <td>0</td>\n",
       "    </tr>\n",
       "    <tr>\n",
       "      <th>3</th>\n",
       "      <td>0.013938</td>\n",
       "      <td>0.041605</td>\n",
       "      <td>59500.000000</td>\n",
       "      <td>85.000000</td>\n",
       "      <td>0.024975</td>\n",
       "      <td>0.001429</td>\n",
       "      <td>1.0</td>\n",
       "      <td>-1.0</td>\n",
       "      <td>-1.836970e-16</td>\n",
       "      <td>0</td>\n",
       "    </tr>\n",
       "    <tr>\n",
       "      <th>4</th>\n",
       "      <td>0.019272</td>\n",
       "      <td>0.055311</td>\n",
       "      <td>1397.321429</td>\n",
       "      <td>2.017857</td>\n",
       "      <td>0.019399</td>\n",
       "      <td>0.001444</td>\n",
       "      <td>56.0</td>\n",
       "      <td>-1.0</td>\n",
       "      <td>-1.836970e-16</td>\n",
       "      <td>0</td>\n",
       "    </tr>\n",
       "  </tbody>\n",
       "</table>\n",
       "</div>"
      ],
      "text/plain": [
       "   Packet speed  Data speed    Packet Rate   Data Rate  \\\n",
       "0      0.012829    0.035732   55600.000000   73.000000   \n",
       "1      0.015076    0.044053  127000.000000  180.000000   \n",
       "2      0.014848    0.040137   62700.000000   82.000000   \n",
       "3      0.013938    0.041605   59500.000000   85.000000   \n",
       "4      0.019272    0.055311    1397.321429    2.017857   \n",
       "\n",
       "   Packet Size to Speed Ratio  Data to Packet Ratio  Duration  Hour sin  \\\n",
       "0                    0.024874              0.001313       1.0      -1.0   \n",
       "1                    0.023717              0.001417       0.5      -1.0   \n",
       "2                    0.022313              0.001308       1.0      -1.0   \n",
       "3                    0.024975              0.001429       1.0      -1.0   \n",
       "4                    0.019399              0.001444      56.0      -1.0   \n",
       "\n",
       "       Hour cos  Day of Week  \n",
       "0 -1.836970e-16            0  \n",
       "1 -1.836970e-16            0  \n",
       "2 -1.836970e-16            0  \n",
       "3 -1.836970e-16            0  \n",
       "4 -1.836970e-16            0  "
      ]
     },
     "execution_count": 7,
     "metadata": {},
     "output_type": "execute_result"
    }
   ],
   "source": [
    "df_A_events[feature_cols].head()"
   ]
  },
  {
   "cell_type": "code",
   "execution_count": 8,
   "metadata": {},
   "outputs": [],
   "source": [
    "df_A_components = pd.read_csv('../datasets/df_A_components.csv')\n",
    "df_B_components = pd.read_csv('../datasets/df_B_components.csv')\n",
    "df_C_components = pd.read_csv('../datasets/df_C_components.csv')\n",
    "df_D_components = pd.read_csv('../datasets/df_D_components.csv')\n",
    "\n",
    "comp_csvs = [df_A_components, df_B_components, df_C_components, df_D_components]"
   ]
  },
  {
   "cell_type": "code",
   "execution_count": 9,
   "metadata": {},
   "outputs": [],
   "source": [
    "for df, df_comp in zip(csvs, comp_csvs):\n",
    "    unique_ports = df_comp.groupby('Attack ID')['Port number'].nunique()\n",
    "    df['Unique ports']=df_comp['Attack ID'].map(unique_ports)\n",
    "    \n",
    "    std_packet_speed = df_comp.groupby('Attack ID')['Packet speed'].std(ddof=0)\n",
    "    df['Std packet speed']=df_comp['Attack ID'].map(std_packet_speed)\n",
    "    max_packet_speed = df_comp.groupby('Attack ID')['Packet speed'].max()\n",
    "    df['Max packet speed']=df_comp['Attack ID'].map(max_packet_speed)\n",
    "    \n",
    "    std_data_speed = df_comp.groupby('Attack ID')['Data speed'].std(ddof=0)\n",
    "    df['Std data speed']=df_comp['Attack ID'].map(std_data_speed)\n",
    "    max_data_speed = df_comp.groupby('Attack ID')['Data speed'].max()\n",
    "    df['Max data speed']=df_comp['Attack ID'].map(max_data_speed)\n",
    "    \n",
    "    std_packet_length = df_comp.groupby('Attack ID')['Avg packet len'].std(ddof=0)\n",
    "    df['Std packet length']=df_comp['Attack ID'].map(std_packet_length)\n",
    "    max_packet_length = df_comp.groupby('Attack ID')['Avg packet len'].max()\n",
    "    df['Max packet length']=df_comp['Attack ID'].map(max_packet_length)\n",
    "\n",
    "    std_source_ip_count= df_comp.groupby('Attack ID')['Source IP count'].std(ddof=0)\n",
    "    df['Std source IP count']=df_comp['Attack ID'].map(std_source_ip_count)\n",
    "    max_source_ip_count = df_comp.groupby('Attack ID')['Source IP count'].max()\n",
    "    df['Max source IP count']=df_comp['Attack ID'].map(max_source_ip_count)\n",
    "\n",
    "    df_comp['Time']=pd.to_datetime(df_comp['Time'])\n",
    "    df_comp = df_comp.sort_values(by=[\"Attack ID\", \"Time\"])\n",
    "    df_comp[\"Time diff\"] = df_comp.groupby(\"Attack ID\")[\"Time\"].diff().dt.total_seconds().fillna(0)\n",
    "    time_diff_mean = df_comp.groupby(\"Attack ID\")[\"Time diff\"].mean()\n",
    "    time_diff_std = df_comp.groupby(\"Attack ID\")[\"Time diff\"].std(ddof=0)\n",
    "    df['Mean time diff'] = df_comp['Attack ID'].map(time_diff_mean)\n",
    "    df['Std time diff'] = df_comp['Attack ID'].map(time_diff_std)"
   ]
  },
  {
   "cell_type": "code",
   "execution_count": 10,
   "metadata": {},
   "outputs": [
    {
     "data": {
      "text/html": [
       "<div>\n",
       "<style scoped>\n",
       "    .dataframe tbody tr th:only-of-type {\n",
       "        vertical-align: middle;\n",
       "    }\n",
       "\n",
       "    .dataframe tbody tr th {\n",
       "        vertical-align: top;\n",
       "    }\n",
       "\n",
       "    .dataframe thead th {\n",
       "        text-align: right;\n",
       "    }\n",
       "</style>\n",
       "<table border=\"1\" class=\"dataframe\">\n",
       "  <thead>\n",
       "    <tr style=\"text-align: right;\">\n",
       "      <th></th>\n",
       "      <th>Unnamed: 0</th>\n",
       "      <th>Attack ID</th>\n",
       "      <th>Victim IP</th>\n",
       "      <th>Port number</th>\n",
       "      <th>Detect count</th>\n",
       "      <th>Packet speed</th>\n",
       "      <th>Data speed</th>\n",
       "      <th>Avg packet len</th>\n",
       "      <th>Avg source IP count</th>\n",
       "      <th>Start time</th>\n",
       "      <th>...</th>\n",
       "      <th>Std packet speed</th>\n",
       "      <th>Max packet speed</th>\n",
       "      <th>Std data speed</th>\n",
       "      <th>Max data speed</th>\n",
       "      <th>Std packet length</th>\n",
       "      <th>Max packet length</th>\n",
       "      <th>Std source IP count</th>\n",
       "      <th>Max source IP count</th>\n",
       "      <th>Mean time diff</th>\n",
       "      <th>Std time diff</th>\n",
       "    </tr>\n",
       "  </thead>\n",
       "  <tbody>\n",
       "    <tr>\n",
       "      <th>0</th>\n",
       "      <td>0</td>\n",
       "      <td>1</td>\n",
       "      <td>IP_0001</td>\n",
       "      <td>4500</td>\n",
       "      <td>1</td>\n",
       "      <td>0.012829</td>\n",
       "      <td>0.035732</td>\n",
       "      <td>1383</td>\n",
       "      <td>6</td>\n",
       "      <td>2022-08-08 18:09:36</td>\n",
       "      <td>...</td>\n",
       "      <td>0.0</td>\n",
       "      <td>55600</td>\n",
       "      <td>0.0</td>\n",
       "      <td>73</td>\n",
       "      <td>0.0</td>\n",
       "      <td>1383</td>\n",
       "      <td>0.0</td>\n",
       "      <td>6</td>\n",
       "      <td>0.0</td>\n",
       "      <td>0.0</td>\n",
       "    </tr>\n",
       "    <tr>\n",
       "      <th>1</th>\n",
       "      <td>1</td>\n",
       "      <td>2</td>\n",
       "      <td>IP_0002</td>\n",
       "      <td>4500</td>\n",
       "      <td>1</td>\n",
       "      <td>0.015076</td>\n",
       "      <td>0.044053</td>\n",
       "      <td>1506</td>\n",
       "      <td>1</td>\n",
       "      <td>2022-08-08 18:37:28</td>\n",
       "      <td>...</td>\n",
       "      <td>0.0</td>\n",
       "      <td>63500</td>\n",
       "      <td>0.0</td>\n",
       "      <td>90</td>\n",
       "      <td>0.0</td>\n",
       "      <td>1506</td>\n",
       "      <td>0.0</td>\n",
       "      <td>1</td>\n",
       "      <td>0.0</td>\n",
       "      <td>0.0</td>\n",
       "    </tr>\n",
       "    <tr>\n",
       "      <th>2</th>\n",
       "      <td>2</td>\n",
       "      <td>3</td>\n",
       "      <td>IP_0003</td>\n",
       "      <td>1200</td>\n",
       "      <td>2</td>\n",
       "      <td>0.014848</td>\n",
       "      <td>0.040137</td>\n",
       "      <td>1399</td>\n",
       "      <td>1</td>\n",
       "      <td>2022-08-08 18:41:25</td>\n",
       "      <td>...</td>\n",
       "      <td>3000.0</td>\n",
       "      <td>65700</td>\n",
       "      <td>3.5</td>\n",
       "      <td>86</td>\n",
       "      <td>0.0</td>\n",
       "      <td>1399</td>\n",
       "      <td>0.0</td>\n",
       "      <td>1</td>\n",
       "      <td>0.5</td>\n",
       "      <td>0.5</td>\n",
       "    </tr>\n",
       "    <tr>\n",
       "      <th>3</th>\n",
       "      <td>3</td>\n",
       "      <td>4</td>\n",
       "      <td>IP_0002</td>\n",
       "      <td>4500</td>\n",
       "      <td>1</td>\n",
       "      <td>0.013938</td>\n",
       "      <td>0.041605</td>\n",
       "      <td>1486</td>\n",
       "      <td>1</td>\n",
       "      <td>2022-08-08 18:47:49</td>\n",
       "      <td>...</td>\n",
       "      <td>3000.0</td>\n",
       "      <td>65700</td>\n",
       "      <td>3.5</td>\n",
       "      <td>86</td>\n",
       "      <td>0.0</td>\n",
       "      <td>1399</td>\n",
       "      <td>0.0</td>\n",
       "      <td>1</td>\n",
       "      <td>0.5</td>\n",
       "      <td>0.5</td>\n",
       "    </tr>\n",
       "    <tr>\n",
       "      <th>4</th>\n",
       "      <td>4</td>\n",
       "      <td>5</td>\n",
       "      <td>IP_0004</td>\n",
       "      <td>12347</td>\n",
       "      <td>2</td>\n",
       "      <td>0.019272</td>\n",
       "      <td>0.055311</td>\n",
       "      <td>1518</td>\n",
       "      <td>1</td>\n",
       "      <td>2022-08-08 18:57:15</td>\n",
       "      <td>...</td>\n",
       "      <td>0.0</td>\n",
       "      <td>59500</td>\n",
       "      <td>0.0</td>\n",
       "      <td>85</td>\n",
       "      <td>0.0</td>\n",
       "      <td>1486</td>\n",
       "      <td>0.0</td>\n",
       "      <td>1</td>\n",
       "      <td>0.0</td>\n",
       "      <td>0.0</td>\n",
       "    </tr>\n",
       "  </tbody>\n",
       "</table>\n",
       "<p>5 rows × 33 columns</p>\n",
       "</div>"
      ],
      "text/plain": [
       "   Unnamed: 0  Attack ID Victim IP  Port number  Detect count  Packet speed  \\\n",
       "0           0          1   IP_0001         4500             1      0.012829   \n",
       "1           1          2   IP_0002         4500             1      0.015076   \n",
       "2           2          3   IP_0003         1200             2      0.014848   \n",
       "3           3          4   IP_0002         4500             1      0.013938   \n",
       "4           4          5   IP_0004        12347             2      0.019272   \n",
       "\n",
       "   Data speed  Avg packet len  Avg source IP count          Start time  ...  \\\n",
       "0    0.035732            1383                    6 2022-08-08 18:09:36  ...   \n",
       "1    0.044053            1506                    1 2022-08-08 18:37:28  ...   \n",
       "2    0.040137            1399                    1 2022-08-08 18:41:25  ...   \n",
       "3    0.041605            1486                    1 2022-08-08 18:47:49  ...   \n",
       "4    0.055311            1518                    1 2022-08-08 18:57:15  ...   \n",
       "\n",
       "  Std packet speed Max packet speed  Std data speed  Max data speed  \\\n",
       "0              0.0            55600             0.0              73   \n",
       "1              0.0            63500             0.0              90   \n",
       "2           3000.0            65700             3.5              86   \n",
       "3           3000.0            65700             3.5              86   \n",
       "4              0.0            59500             0.0              85   \n",
       "\n",
       "   Std packet length  Max packet length  Std source IP count  \\\n",
       "0                0.0               1383                  0.0   \n",
       "1                0.0               1506                  0.0   \n",
       "2                0.0               1399                  0.0   \n",
       "3                0.0               1399                  0.0   \n",
       "4                0.0               1486                  0.0   \n",
       "\n",
       "   Max source IP count  Mean time diff  Std time diff  \n",
       "0                    6             0.0            0.0  \n",
       "1                    1             0.0            0.0  \n",
       "2                    1             0.5            0.5  \n",
       "3                    1             0.5            0.5  \n",
       "4                    1             0.0            0.0  \n",
       "\n",
       "[5 rows x 33 columns]"
      ]
     },
     "execution_count": 10,
     "metadata": {},
     "output_type": "execute_result"
    }
   ],
   "source": [
    "df_A_events.head()"
   ]
  },
  {
   "cell_type": "code",
   "execution_count": 11,
   "metadata": {},
   "outputs": [
    {
     "data": {
      "text/plain": [
       "Unique ports\n",
       "1     66989\n",
       "2     36704\n",
       "3     10239\n",
       "50     5300\n",
       "4      3827\n",
       "23     3226\n",
       "5      2941\n",
       "6      2484\n",
       "54     1845\n",
       "13      557\n",
       "7       414\n",
       "12      123\n",
       "8       117\n",
       "Name: count, dtype: int64"
      ]
     },
     "execution_count": 11,
     "metadata": {},
     "output_type": "execute_result"
    }
   ],
   "source": [
    "df_A_events['Unique ports'].value_counts()"
   ]
  },
  {
   "cell_type": "code",
   "execution_count": 18,
   "metadata": {
    "scrolled": true
   },
   "outputs": [
    {
     "name": "stderr",
     "output_type": "stream",
     "text": [
      "/opt/conda/lib/python3.10/site-packages/sklearn/utils/deprecation.py:151: FutureWarning: 'force_all_finite' was renamed to 'ensure_all_finite' in 1.6 and will be removed in 1.8.\n",
      "  warnings.warn(\n",
      "/opt/conda/lib/python3.10/site-packages/umap/umap_.py:1952: UserWarning: n_jobs value 1 overridden to 1 by setting random_state. Use no seed for parallelism.\n",
      "  warn(\n"
     ]
    }
   ],
   "source": [
    "from umap.umap_ import UMAP\n",
    "from sklearn.decomposition import PCA\n",
    "import os\n",
    "\n",
    "# Csak df_A_events-en futtatjuk\n",
    "datasets_path = os.path.join('..', 'datasets')\n",
    "df = df_A_events.copy()\n",
    "train_df = pd.concat([df_A_events, df_B_events])\n",
    "test_df = df_C_events\n",
    "model_csvs = [train_df, test_df]\n",
    "\n",
    "# Mintavételezés – csak 2000 sor\n",
    "sample_df = df.sample(n=2000, random_state=42).reset_index(drop=True)\n",
    "\n",
    "mymap = UMAP(random_state=42, n_components=2, n_neighbors=15) # jó ötletnek tűnt, de aztán meghalt a gépem\n",
    "pca = PCA(n_components=2,random_state=42)\n",
    "\n",
    "sample_df[['umap_1', 'umap_2']] = mymap.fit_transform(sample_df[feature_cols])\n",
    "\n",
    "for df in csvs:\n",
    "    #df['umap_1']=0\n",
    "    #df['umap_2']=0\n",
    "    #df[['umap_1','umap_2']]=mymap.fit_transform(df[feature_cols])       \n",
    "    df['pca_1']=0\n",
    "    df['pca_2']=0\n",
    "    df[['pca_1','pca_2']]=pca.fit_transform(df[feature_cols])\n",
    "for df in model_csvs:\n",
    "    df['pca_1']=0\n",
    "    df['pca_2']=0\n",
    "    df[['pca_1','pca_2']]=pca.fit_transform(df[feature_cols])\n",
    "train_df.to_csv(os.path.join(datasets_path, 'train_data.csv'), index=False)\n",
    "test_df.to_csv(os.path.join(datasets_path, 'val_data.csv'), index=False)"
   ]
  },
  {
   "cell_type": "code",
   "execution_count": 20,
   "metadata": {},
   "outputs": [
    {
     "data": {
      "text/html": [
       "<div>\n",
       "<style scoped>\n",
       "    .dataframe tbody tr th:only-of-type {\n",
       "        vertical-align: middle;\n",
       "    }\n",
       "\n",
       "    .dataframe tbody tr th {\n",
       "        vertical-align: top;\n",
       "    }\n",
       "\n",
       "    .dataframe thead th {\n",
       "        text-align: right;\n",
       "    }\n",
       "</style>\n",
       "<table border=\"1\" class=\"dataframe\">\n",
       "  <thead>\n",
       "    <tr style=\"text-align: right;\">\n",
       "      <th></th>\n",
       "      <th>Unnamed: 0</th>\n",
       "      <th>Attack ID</th>\n",
       "      <th>Victim IP</th>\n",
       "      <th>Port number</th>\n",
       "      <th>Detect count</th>\n",
       "      <th>Packet speed</th>\n",
       "      <th>Data speed</th>\n",
       "      <th>Avg packet len</th>\n",
       "      <th>Avg source IP count</th>\n",
       "      <th>Start time</th>\n",
       "      <th>...</th>\n",
       "      <th>Std data speed</th>\n",
       "      <th>Max data speed</th>\n",
       "      <th>Std packet length</th>\n",
       "      <th>Max packet length</th>\n",
       "      <th>Std source IP count</th>\n",
       "      <th>Max source IP count</th>\n",
       "      <th>Mean time diff</th>\n",
       "      <th>Std time diff</th>\n",
       "      <th>pca_1</th>\n",
       "      <th>pca_2</th>\n",
       "    </tr>\n",
       "  </thead>\n",
       "  <tbody>\n",
       "    <tr>\n",
       "      <th>0</th>\n",
       "      <td>0</td>\n",
       "      <td>1</td>\n",
       "      <td>IP_0001</td>\n",
       "      <td>4500</td>\n",
       "      <td>1</td>\n",
       "      <td>0.012829</td>\n",
       "      <td>0.035732</td>\n",
       "      <td>1383</td>\n",
       "      <td>6</td>\n",
       "      <td>2022-08-08 18:09:36</td>\n",
       "      <td>...</td>\n",
       "      <td>0.0</td>\n",
       "      <td>73</td>\n",
       "      <td>0.0</td>\n",
       "      <td>1383</td>\n",
       "      <td>0.0</td>\n",
       "      <td>6</td>\n",
       "      <td>0.0</td>\n",
       "      <td>0.0</td>\n",
       "      <td>5882.390147</td>\n",
       "      <td>-43.601836</td>\n",
       "    </tr>\n",
       "    <tr>\n",
       "      <th>1</th>\n",
       "      <td>1</td>\n",
       "      <td>2</td>\n",
       "      <td>IP_0002</td>\n",
       "      <td>4500</td>\n",
       "      <td>1</td>\n",
       "      <td>0.015076</td>\n",
       "      <td>0.044053</td>\n",
       "      <td>1506</td>\n",
       "      <td>1</td>\n",
       "      <td>2022-08-08 18:37:28</td>\n",
       "      <td>...</td>\n",
       "      <td>0.0</td>\n",
       "      <td>90</td>\n",
       "      <td>0.0</td>\n",
       "      <td>1506</td>\n",
       "      <td>0.0</td>\n",
       "      <td>1</td>\n",
       "      <td>0.0</td>\n",
       "      <td>0.0</td>\n",
       "      <td>77282.435588</td>\n",
       "      <td>23.576695</td>\n",
       "    </tr>\n",
       "    <tr>\n",
       "      <th>2</th>\n",
       "      <td>2</td>\n",
       "      <td>3</td>\n",
       "      <td>IP_0003</td>\n",
       "      <td>1200</td>\n",
       "      <td>2</td>\n",
       "      <td>0.014848</td>\n",
       "      <td>0.040137</td>\n",
       "      <td>1399</td>\n",
       "      <td>1</td>\n",
       "      <td>2022-08-08 18:41:25</td>\n",
       "      <td>...</td>\n",
       "      <td>3.5</td>\n",
       "      <td>86</td>\n",
       "      <td>0.0</td>\n",
       "      <td>1399</td>\n",
       "      <td>0.0</td>\n",
       "      <td>1</td>\n",
       "      <td>0.5</td>\n",
       "      <td>0.5</td>\n",
       "      <td>12982.392646</td>\n",
       "      <td>-36.872210</td>\n",
       "    </tr>\n",
       "    <tr>\n",
       "      <th>3</th>\n",
       "      <td>3</td>\n",
       "      <td>4</td>\n",
       "      <td>IP_0002</td>\n",
       "      <td>4500</td>\n",
       "      <td>1</td>\n",
       "      <td>0.013938</td>\n",
       "      <td>0.041605</td>\n",
       "      <td>1486</td>\n",
       "      <td>1</td>\n",
       "      <td>2022-08-08 18:47:49</td>\n",
       "      <td>...</td>\n",
       "      <td>3.5</td>\n",
       "      <td>86</td>\n",
       "      <td>0.0</td>\n",
       "      <td>1399</td>\n",
       "      <td>0.0</td>\n",
       "      <td>1</td>\n",
       "      <td>0.5</td>\n",
       "      <td>0.5</td>\n",
       "      <td>9782.400003</td>\n",
       "      <td>-39.903941</td>\n",
       "    </tr>\n",
       "    <tr>\n",
       "      <th>4</th>\n",
       "      <td>4</td>\n",
       "      <td>5</td>\n",
       "      <td>IP_0004</td>\n",
       "      <td>12347</td>\n",
       "      <td>2</td>\n",
       "      <td>0.019272</td>\n",
       "      <td>0.055311</td>\n",
       "      <td>1518</td>\n",
       "      <td>1</td>\n",
       "      <td>2022-08-08 18:57:15</td>\n",
       "      <td>...</td>\n",
       "      <td>0.0</td>\n",
       "      <td>85</td>\n",
       "      <td>0.0</td>\n",
       "      <td>1486</td>\n",
       "      <td>0.0</td>\n",
       "      <td>1</td>\n",
       "      <td>0.0</td>\n",
       "      <td>0.0</td>\n",
       "      <td>-48320.362374</td>\n",
       "      <td>-39.977475</td>\n",
       "    </tr>\n",
       "  </tbody>\n",
       "</table>\n",
       "<p>5 rows × 35 columns</p>\n",
       "</div>"
      ],
      "text/plain": [
       "   Unnamed: 0  Attack ID Victim IP  Port number  Detect count  Packet speed  \\\n",
       "0           0          1   IP_0001         4500             1      0.012829   \n",
       "1           1          2   IP_0002         4500             1      0.015076   \n",
       "2           2          3   IP_0003         1200             2      0.014848   \n",
       "3           3          4   IP_0002         4500             1      0.013938   \n",
       "4           4          5   IP_0004        12347             2      0.019272   \n",
       "\n",
       "   Data speed  Avg packet len  Avg source IP count          Start time  ...  \\\n",
       "0    0.035732            1383                    6 2022-08-08 18:09:36  ...   \n",
       "1    0.044053            1506                    1 2022-08-08 18:37:28  ...   \n",
       "2    0.040137            1399                    1 2022-08-08 18:41:25  ...   \n",
       "3    0.041605            1486                    1 2022-08-08 18:47:49  ...   \n",
       "4    0.055311            1518                    1 2022-08-08 18:57:15  ...   \n",
       "\n",
       "  Std data speed Max data speed  Std packet length  Max packet length  \\\n",
       "0            0.0             73                0.0               1383   \n",
       "1            0.0             90                0.0               1506   \n",
       "2            3.5             86                0.0               1399   \n",
       "3            3.5             86                0.0               1399   \n",
       "4            0.0             85                0.0               1486   \n",
       "\n",
       "   Std source IP count  Max source IP count  Mean time diff  Std time diff  \\\n",
       "0                  0.0                    6             0.0            0.0   \n",
       "1                  0.0                    1             0.0            0.0   \n",
       "2                  0.0                    1             0.5            0.5   \n",
       "3                  0.0                    1             0.5            0.5   \n",
       "4                  0.0                    1             0.0            0.0   \n",
       "\n",
       "          pca_1      pca_2  \n",
       "0   5882.390147 -43.601836  \n",
       "1  77282.435588  23.576695  \n",
       "2  12982.392646 -36.872210  \n",
       "3   9782.400003 -39.903941  \n",
       "4 -48320.362374 -39.977475  \n",
       "\n",
       "[5 rows x 35 columns]"
      ]
     },
     "execution_count": 20,
     "metadata": {},
     "output_type": "execute_result"
    }
   ],
   "source": [
    "train_df.head()"
   ]
  },
  {
   "cell_type": "markdown",
   "metadata": {},
   "source": [
    "# Tesztelés"
   ]
  },
  {
   "cell_type": "code",
   "execution_count": 15,
   "metadata": {},
   "outputs": [],
   "source": [
    "import sklearn\n",
    "import seaborn as sns\n",
    "from sklearn.model_selection import train_test_split\n",
    "from sklearn.preprocessing import StandardScaler\n",
    "from sklearn.metrics import classification_report, accuracy_score, confusion_matrix, recall_score\n",
    "from sklearn.ensemble import RandomForestClassifier"
   ]
  },
  {
   "cell_type": "code",
   "execution_count": 16,
   "metadata": {},
   "outputs": [
    {
     "name": "stdout",
     "output_type": "stream",
     "text": [
      "Pontosság: 0.930511241374193\n",
      "Konfúziós mátrix:\n",
      " [[  118    51    16]\n",
      " [   11 24455   361]\n",
      " [    9  1425   508]]\n",
      "Osztályozási riport (Random Forest):\n",
      "                    precision    recall  f1-score   support\n",
      "\n",
      "       DDoS attack       0.86      0.64      0.73       185\n",
      "    Normal traffic       0.94      0.99      0.96     24827\n",
      "Suspicious traffic       0.57      0.26      0.36      1942\n",
      "\n",
      "          accuracy                           0.93     26954\n",
      "         macro avg       0.79      0.63      0.68     26954\n",
      "      weighted avg       0.92      0.93      0.92     26954\n",
      "\n"
     ]
    }
   ],
   "source": [
    "\n",
    "A_X = df_A_events[feature_cols]\n",
    "A_y = df_A_events['Type']\n",
    "\n",
    "X_train, X_test, y_train, y_test = train_test_split(A_X, A_y, test_size=0.2, random_state=42, stratify=A_y)\n",
    "\n",
    "clf = RandomForestClassifier(n_estimators=100, random_state=42)\n",
    "clf.fit(X_train, y_train)\n",
    "\n",
    "y_pred = clf.predict(X_test)\n",
    "\n",
    "print(\"Pontosság:\", accuracy_score(y_test, y_pred))\n",
    "print(\"Konfúziós mátrix:\\n\", confusion_matrix(y_test, y_pred))\n",
    "print(\"Osztályozási riport (Random Forest):\")\n",
    "print(classification_report(y_test, y_pred))"
   ]
  },
  {
   "cell_type": "code",
   "execution_count": 17,
   "metadata": {},
   "outputs": [],
   "source": [
    "from sklearn.preprocessing import LabelEncoder\n",
    "\n",
    "le = LabelEncoder()\n",
    "y_encoded = le.fit_transform(A_y)"
   ]
  },
  {
   "cell_type": "code",
   "execution_count": 18,
   "metadata": {},
   "outputs": [
    {
     "name": "stdout",
     "output_type": "stream",
     "text": [
      "Random Forest CV pontosság: 0.9300 ± 0.0019\n",
      "SVM CV pontosság: 0.9265 ± 0.0001\n",
      "kNN CV pontosság: 0.9225 ± 0.0031\n",
      "XGBoost CV pontosság: 0.9250 ± 0.0021\n",
      "CatBoost CV pontosság: 0.9255 ± 0.0007\n"
     ]
    }
   ],
   "source": [
    "from sklearn.model_selection import StratifiedKFold, cross_val_score\n",
    "from sklearn.svm import SVC\n",
    "from sklearn.neighbors import KNeighborsClassifier\n",
    "from xgboost import XGBClassifier\n",
    "from catboost import CatBoostClassifier\n",
    "from sklearn.ensemble import RandomForestClassifier\n",
    "\n",
    "X_sample = A_X.sample(n=2000, random_state=42)\n",
    "y_sample = y_encoded[X_sample.index]\n",
    "\n",
    "# GT modellek összehasonlítása kereszvalidációval\n",
    "models = {\n",
    "    'Random Forest': RandomForestClassifier(n_estimators=100, random_state=42),\n",
    "    'SVM': SVC(kernel='rbf', probability=True),\n",
    "    'kNN': KNeighborsClassifier(n_neighbors=5),\n",
    "    'XGBoost': XGBClassifier(eval_metric='mlogloss'),\n",
    "    'CatBoost': CatBoostClassifier(verbose=0)\n",
    "}\n",
    "\n",
    "cv = StratifiedKFold(n_splits=3, shuffle=True, random_state=42)\n",
    "\n",
    "for name, model in models.items():\n",
    "    scores = cross_val_score(model, X_sample, y_sample, cv=cv, scoring='accuracy', n_jobs=-1)\n",
    "    print(f\"{name} CV pontosság: {scores.mean():.4f} ± {scores.std():.4f}\")"
   ]
  },
  {
   "cell_type": "code",
   "execution_count": 19,
   "metadata": {},
   "outputs": [
    {
     "data": {
      "image/png": "[encoded data removed]",
      "text/plain": [
       "<Figure size 1000x400 with 2 Axes>"
      ]
     },
     "metadata": {},
     "output_type": "display_data"
    }
   ],
   "source": [
    "import seaborn as sns\n",
    "import matplotlib.pyplot as plt\n",
    "from matplotlib.ticker import FuncFormatter\n",
    "\n",
    "def thousands_formatter(x, pos):\n",
    "    return f\"{int(x/1000)}k\" if x >= 1000 else int(x)\n",
    "    \n",
    "# UMAP scatter plot csak minta alapján (sample_df)\n",
    "if 'umap_1' in sample_df.columns and 'pca_1' in df_A_events.columns:\n",
    "    plt.figure(figsize=(10, 4))\n",
    "\n",
    "    ax1 = plt.subplot(1, 2, 1)\n",
    "    sns.scatterplot(data=df_A_events, x='pca_1', y='pca_2', hue='Type', palette='tab10', s=30)\n",
    "    ax1.xaxis.set_major_formatter(FuncFormatter(thousands_formatter))\n",
    "    plt.title(\"PCA scatter – Sample\")\n",
    "\n",
    "    ax2 = plt.subplot(1, 2, 2)\n",
    "    sns.scatterplot(data=sample_df, x='umap_1', y='umap_2', hue='Type', palette='tab10', s=30)\n",
    "    plt.title(\"UMAP scatter – Sample\")\n",
    "\n",
    "    plt.tight_layout()\n",
    "    plt.show()\n",
    "else:\n",
    "    print(\"A sample_df nem tartalmaz PCA/UMAP oszlopokat.\")"
   ]
  },
  {
   "cell_type": "code",
   "execution_count": 20,
   "metadata": {},
   "outputs": [
    {
     "name": "stdout",
     "output_type": "stream",
     "text": [
      "Accuracy: 93.17%\n",
      "Recall: 63.50%\n",
      "[[  131    47    20]\n",
      " [    8 24486   334]\n",
      " [    4  1428   496]]\n"
     ]
    }
   ],
   "source": [
    "A_X = df_A_events[feature_cols]\n",
    "A_y = df_A_events['Type']\n",
    "X_train, X_test, y_train, y_test = train_test_split(A_X, A_y, test_size=0.2, random_state=42)\n",
    "\n",
    "classifier = RandomForestClassifier(n_estimators=100, random_state=42)\n",
    "classifier.fit(X_train, y_train)\n",
    "y_pred = classifier.predict(X_test)\n",
    "\n",
    "\n",
    "accuracy = accuracy_score(y_test, y_pred)\n",
    "print(f'Accuracy: {accuracy * 100:.2f}%')\n",
    "\n",
    "recall = recall_score(y_test, y_pred, average=\"macro\")\n",
    "print(f'Recall: {recall * 100:.2f}%')\n",
    "\n",
    "conf_matrix = confusion_matrix(y_test, y_pred)\n",
    "print(conf_matrix)"
   ]
  },
  {
   "cell_type": "code",
   "execution_count": 21,
   "metadata": {},
   "outputs": [],
   "source": [
    "feature_cols += ['Unique ports', 'Std packet speed', 'Max packet speed', 'Std data speed', 'Max data speed', 'Std packet length', 'Max packet length',\n",
    "                  'Std source IP count', 'Max source IP count', 'Mean time diff', 'Std time diff']"
   ]
  },
  {
   "cell_type": "code",
   "execution_count": 22,
   "metadata": {},
   "outputs": [
    {
     "name": "stdout",
     "output_type": "stream",
     "text": [
      "Accuracy: 94.13%\n",
      "Recall: 67.12%\n",
      "[[  131    44    23]\n",
      " [    3 24539   286]\n",
      " [    4  1223   701]]\n"
     ]
    }
   ],
   "source": [
    "A_X = df_A_events[feature_cols]\n",
    "A_y = df_A_events['Type']\n",
    "X_train, X_test, y_train, y_test = train_test_split(A_X, A_y, test_size=0.2, random_state=42)\n",
    "\n",
    "classifier.fit(X_train, y_train)\n",
    "y_pred = classifier.predict(X_test)\n",
    "\n",
    "accuracy = accuracy_score(y_test, y_pred)\n",
    "print(f'Accuracy: {accuracy * 100:.2f}%')\n",
    "recall = recall_score(y_test, y_pred, average=\"macro\")\n",
    "print(f'Recall: {recall * 100:.2f}%')\n",
    "\n",
    "conf_matrix = confusion_matrix(y_test, y_pred)\n",
    "print(conf_matrix)"
   ]
  },
  {
   "cell_type": "code",
   "execution_count": 23,
   "metadata": {},
   "outputs": [
    {
     "data": {
      "image/png": "[encoded data removed]",
      "text/plain": [
       "<Figure size 640x480 with 1 Axes>"
      ]
     },
     "metadata": {},
     "output_type": "display_data"
    }
   ],
   "source": [
    "feature_importances = classifier.feature_importances_\n",
    "plt.barh(feature_cols, feature_importances)\n",
    "plt.xlabel('Feature Importance')\n",
    "plt.title('Feature Importance in Random Forest Classifier')\n",
    "plt.show()"
   ]
  },
  {
   "cell_type": "code",
   "execution_count": 24,
   "metadata": {},
   "outputs": [],
   "source": [
    "feature_cols += ['pca_1','pca_2']"
   ]
  },
  {
   "cell_type": "code",
   "execution_count": 25,
   "metadata": {},
   "outputs": [
    {
     "name": "stdout",
     "output_type": "stream",
     "text": [
      "Accuracy: 94.10%\n",
      "Recall: 66.32%\n",
      "[[  128    44    26]\n",
      " [    5 24554   269]\n",
      " [    4  1241   683]]\n"
     ]
    }
   ],
   "source": [
    "A_X = df_A_events[feature_cols]\n",
    "A_y = df_A_events['Type']\n",
    "X_train, X_test, y_train, y_test = train_test_split(A_X, A_y, test_size=0.2, random_state=42)\n",
    "\n",
    "classifier.fit(X_train, y_train)\n",
    "y_pred = classifier.predict(X_test)\n",
    "\n",
    "accuracy = accuracy_score(y_test, y_pred)\n",
    "print(f'Accuracy: {accuracy * 100:.2f}%')\n",
    "recall = recall_score(y_test, y_pred, average=\"macro\")\n",
    "print(f'Recall: {recall * 100:.2f}%')\n",
    "\n",
    "conf_matrix = confusion_matrix(y_test, y_pred)\n",
    "print(conf_matrix)"
   ]
  },
  {
   "cell_type": "code",
   "execution_count": 26,
   "metadata": {},
   "outputs": [
    {
     "data": {
      "image/png": "[encoded data removed]",
      "text/plain": [
       "<Figure size 640x480 with 1 Axes>"
      ]
     },
     "metadata": {},
     "output_type": "display_data"
    }
   ],
   "source": [
    "feature_importances = classifier.feature_importances_\n",
    "plt.barh(feature_cols, feature_importances)\n",
    "plt.xlabel('Feature Importance')\n",
    "plt.title('Feature Importance in Random Forest Classifier')\n",
    "plt.show()"
   ]
  },
  {
   "cell_type": "code",
   "execution_count": 27,
   "metadata": {},
   "outputs": [],
   "source": [
    "#!pip install imblearn"
   ]
  },
  {
   "cell_type": "code",
   "execution_count": 28,
   "metadata": {},
   "outputs": [
    {
     "name": "stdout",
     "output_type": "stream",
     "text": [
      "Balanced accuracy: 85.99%\n",
      "Recall: 85.99%\n"
     ]
    }
   ],
   "source": [
    "from imblearn.ensemble import BalancedRandomForestClassifier\n",
    "from sklearn.metrics import balanced_accuracy_score\n",
    "brf = BalancedRandomForestClassifier(\n",
    "    n_estimators=100, random_state=0, sampling_strategy=\"all\", replacement=True,\n",
    "    bootstrap=False,\n",
    ")\n",
    "brf.fit(X_train, y_train)\n",
    "y_pred = brf.predict(X_test)\n",
    "balanced_accuracy_score=balanced_accuracy_score(y_test, y_pred)\n",
    "print(f'Balanced accuracy: {balanced_accuracy_score * 100:.2f}%')\n",
    "recall = recall_score(y_test, y_pred, average=\"macro\")\n",
    "print(f'Recall: {recall * 100:.2f}%')"
   ]
  },
  {
   "cell_type": "code",
   "execution_count": 29,
   "metadata": {},
   "outputs": [
    {
     "name": "stdout",
     "output_type": "stream",
     "text": [
      "Original class distribution:\n",
      "Type\n",
      "Normal traffic        124133\n",
      "Suspicious traffic      9707\n",
      "DDoS attack              926\n",
      "Name: count, dtype: int64\n",
      "\n",
      "Resampled class distribution:\n",
      "Type\n",
      "Normal traffic        124133\n",
      "Suspicious traffic     30000\n",
      "DDoS attack             3000\n",
      "Name: count, dtype: int64\n",
      "Accuracy: 94.24%\n",
      "Recall: 85.92%\n",
      "[[  485    92    43]\n",
      " [    9 24251   592]\n",
      " [    6  1068  4881]]\n"
     ]
    }
   ],
   "source": [
    "from imblearn.over_sampling import SMOTE\n",
    "\n",
    "# Create a SMOTE instance with a specific sampling strategy\n",
    "# This will bring the DDoS attack class to exactly 3000 samples\n",
    "smote = SMOTE(sampling_strategy={'Normal traffic': 124133, \n",
    "                                 'Suspicious traffic': 30000, \n",
    "                                 'DDoS attack': 3000}, \n",
    "              random_state=42)\n",
    "\n",
    "# Perform the resampling\n",
    "X_smote, y_smote = smote.fit_resample(A_X, A_y)\n",
    "\n",
    "# Verify the new class distribution\n",
    "print(\"Original class distribution:\")\n",
    "print(A_y.value_counts())\n",
    "print(\"\\nResampled class distribution:\")\n",
    "print(y_smote.value_counts())\n",
    "\n",
    "# Continue with train-test split and model training\n",
    "X_train, X_test, y_train, y_test = train_test_split(X_smote, y_smote, test_size=0.2, random_state=42)\n",
    "\n",
    "classifier.fit(X_train, y_train)\n",
    "y_pred = classifier.predict(X_test)\n",
    "\n",
    "accuracy = accuracy_score(y_test, y_pred)\n",
    "print(f'Accuracy: {accuracy * 100:.2f}%')\n",
    "\n",
    "recall = recall_score(y_test, y_pred, average=\"macro\")\n",
    "print(f'Recall: {recall * 100:.2f}%')\n",
    "\n",
    "conf_matrix = confusion_matrix(y_test, y_pred)\n",
    "print(conf_matrix)"
   ]
  },
  {
   "cell_type": "markdown",
   "metadata": {},
   "source": [
    "# Modellkészítés"
   ]
  },
  {
   "cell_type": "code",
   "execution_count": 60,
   "metadata": {},
   "outputs": [],
   "source": [
    "train_df = pd.concat([df_A_events, df_B_events])\n",
    "val_df = df_C_events\n",
    "train_df.to_csv('train_data.csv', index=False)\n",
    "val_df.to_csv('validation_data.csv', index=False)"
   ]
  },
  {
   "cell_type": "code",
   "execution_count": 46,
   "metadata": {},
   "outputs": [
    {
     "data": {
      "text/html": [
       "<div>\n",
       "<style scoped>\n",
       "    .dataframe tbody tr th:only-of-type {\n",
       "        vertical-align: middle;\n",
       "    }\n",
       "\n",
       "    .dataframe tbody tr th {\n",
       "        vertical-align: top;\n",
       "    }\n",
       "\n",
       "    .dataframe thead th {\n",
       "        text-align: right;\n",
       "    }\n",
       "</style>\n",
       "<table border=\"1\" class=\"dataframe\">\n",
       "  <thead>\n",
       "    <tr style=\"text-align: right;\">\n",
       "      <th></th>\n",
       "      <th>Unnamed: 0</th>\n",
       "      <th>Attack ID</th>\n",
       "      <th>Victim IP</th>\n",
       "      <th>Port number</th>\n",
       "      <th>Detect count</th>\n",
       "      <th>Packet speed</th>\n",
       "      <th>Data speed</th>\n",
       "      <th>Avg packet len</th>\n",
       "      <th>Avg source IP count</th>\n",
       "      <th>Start time</th>\n",
       "      <th>...</th>\n",
       "      <th>Std data speed</th>\n",
       "      <th>Max data speed</th>\n",
       "      <th>Std packet length</th>\n",
       "      <th>Max packet length</th>\n",
       "      <th>Std source IP count</th>\n",
       "      <th>Max source IP count</th>\n",
       "      <th>Mean time diff</th>\n",
       "      <th>Std time diff</th>\n",
       "      <th>pca_1</th>\n",
       "      <th>pca_2</th>\n",
       "    </tr>\n",
       "  </thead>\n",
       "  <tbody>\n",
       "    <tr>\n",
       "      <th>0</th>\n",
       "      <td>0</td>\n",
       "      <td>1</td>\n",
       "      <td>IP_0001</td>\n",
       "      <td>4500</td>\n",
       "      <td>1</td>\n",
       "      <td>0.012829</td>\n",
       "      <td>0.035732</td>\n",
       "      <td>1383</td>\n",
       "      <td>6</td>\n",
       "      <td>2022-08-08 18:09:36</td>\n",
       "      <td>...</td>\n",
       "      <td>0.0</td>\n",
       "      <td>73</td>\n",
       "      <td>0.0</td>\n",
       "      <td>1383</td>\n",
       "      <td>0.0</td>\n",
       "      <td>6</td>\n",
       "      <td>0.0</td>\n",
       "      <td>0.0</td>\n",
       "      <td>-5583.173430</td>\n",
       "      <td>-32.109090</td>\n",
       "    </tr>\n",
       "    <tr>\n",
       "      <th>1</th>\n",
       "      <td>1</td>\n",
       "      <td>2</td>\n",
       "      <td>IP_0002</td>\n",
       "      <td>4500</td>\n",
       "      <td>1</td>\n",
       "      <td>0.015076</td>\n",
       "      <td>0.044053</td>\n",
       "      <td>1506</td>\n",
       "      <td>1</td>\n",
       "      <td>2022-08-08 18:37:28</td>\n",
       "      <td>...</td>\n",
       "      <td>0.0</td>\n",
       "      <td>90</td>\n",
       "      <td>0.0</td>\n",
       "      <td>1506</td>\n",
       "      <td>0.0</td>\n",
       "      <td>1</td>\n",
       "      <td>0.0</td>\n",
       "      <td>0.0</td>\n",
       "      <td>65816.895936</td>\n",
       "      <td>1.023925</td>\n",
       "    </tr>\n",
       "    <tr>\n",
       "      <th>2</th>\n",
       "      <td>2</td>\n",
       "      <td>3</td>\n",
       "      <td>IP_0003</td>\n",
       "      <td>1200</td>\n",
       "      <td>2</td>\n",
       "      <td>0.014848</td>\n",
       "      <td>0.040137</td>\n",
       "      <td>1399</td>\n",
       "      <td>1</td>\n",
       "      <td>2022-08-08 18:41:25</td>\n",
       "      <td>...</td>\n",
       "      <td>3.5</td>\n",
       "      <td>86</td>\n",
       "      <td>0.0</td>\n",
       "      <td>1399</td>\n",
       "      <td>0.0</td>\n",
       "      <td>1</td>\n",
       "      <td>0.5</td>\n",
       "      <td>0.5</td>\n",
       "      <td>1516.831470</td>\n",
       "      <td>-28.762497</td>\n",
       "    </tr>\n",
       "    <tr>\n",
       "      <th>3</th>\n",
       "      <td>3</td>\n",
       "      <td>4</td>\n",
       "      <td>IP_0002</td>\n",
       "      <td>4500</td>\n",
       "      <td>1</td>\n",
       "      <td>0.013938</td>\n",
       "      <td>0.041605</td>\n",
       "      <td>1486</td>\n",
       "      <td>1</td>\n",
       "      <td>2022-08-08 18:47:49</td>\n",
       "      <td>...</td>\n",
       "      <td>3.5</td>\n",
       "      <td>86</td>\n",
       "      <td>0.0</td>\n",
       "      <td>1399</td>\n",
       "      <td>0.0</td>\n",
       "      <td>1</td>\n",
       "      <td>0.5</td>\n",
       "      <td>0.5</td>\n",
       "      <td>-1683.162247</td>\n",
       "      <td>-30.280003</td>\n",
       "    </tr>\n",
       "    <tr>\n",
       "      <th>4</th>\n",
       "      <td>4</td>\n",
       "      <td>5</td>\n",
       "      <td>IP_0004</td>\n",
       "      <td>12347</td>\n",
       "      <td>2</td>\n",
       "      <td>0.019272</td>\n",
       "      <td>0.055311</td>\n",
       "      <td>1518</td>\n",
       "      <td>1</td>\n",
       "      <td>2022-08-08 18:57:15</td>\n",
       "      <td>...</td>\n",
       "      <td>0.0</td>\n",
       "      <td>85</td>\n",
       "      <td>0.0</td>\n",
       "      <td>1486</td>\n",
       "      <td>0.0</td>\n",
       "      <td>1</td>\n",
       "      <td>0.0</td>\n",
       "      <td>0.0</td>\n",
       "      <td>-59785.918080</td>\n",
       "      <td>-2.654684</td>\n",
       "    </tr>\n",
       "  </tbody>\n",
       "</table>\n",
       "<p>5 rows × 35 columns</p>\n",
       "</div>"
      ],
      "text/plain": [
       "   Unnamed: 0  Attack ID Victim IP  Port number  Detect count  Packet speed  \\\n",
       "0           0          1   IP_0001         4500             1      0.012829   \n",
       "1           1          2   IP_0002         4500             1      0.015076   \n",
       "2           2          3   IP_0003         1200             2      0.014848   \n",
       "3           3          4   IP_0002         4500             1      0.013938   \n",
       "4           4          5   IP_0004        12347             2      0.019272   \n",
       "\n",
       "   Data speed  Avg packet len  Avg source IP count          Start time  ...  \\\n",
       "0    0.035732            1383                    6 2022-08-08 18:09:36  ...   \n",
       "1    0.044053            1506                    1 2022-08-08 18:37:28  ...   \n",
       "2    0.040137            1399                    1 2022-08-08 18:41:25  ...   \n",
       "3    0.041605            1486                    1 2022-08-08 18:47:49  ...   \n",
       "4    0.055311            1518                    1 2022-08-08 18:57:15  ...   \n",
       "\n",
       "  Std data speed Max data speed  Std packet length  Max packet length  \\\n",
       "0            0.0             73                0.0               1383   \n",
       "1            0.0             90                0.0               1506   \n",
       "2            3.5             86                0.0               1399   \n",
       "3            3.5             86                0.0               1399   \n",
       "4            0.0             85                0.0               1486   \n",
       "\n",
       "   Std source IP count  Max source IP count  Mean time diff  Std time diff  \\\n",
       "0                  0.0                    6             0.0            0.0   \n",
       "1                  0.0                    1             0.0            0.0   \n",
       "2                  0.0                    1             0.5            0.5   \n",
       "3                  0.0                    1             0.5            0.5   \n",
       "4                  0.0                    1             0.0            0.0   \n",
       "\n",
       "          pca_1      pca_2  \n",
       "0  -5583.173430 -32.109090  \n",
       "1  65816.895936   1.023925  \n",
       "2   1516.831470 -28.762497  \n",
       "3  -1683.162247 -30.280003  \n",
       "4 -59785.918080  -2.654684  \n",
       "\n",
       "[5 rows x 35 columns]"
      ]
     },
     "execution_count": 46,
     "metadata": {},
     "output_type": "execute_result"
    }
   ],
   "source": [
    "train_df.head()"
   ]
  },
  {
   "cell_type": "code",
   "execution_count": 47,
   "metadata": {},
   "outputs": [
    {
     "data": {
      "text/plain": [
       "Type\n",
       "Normal traffic        249013\n",
       "Suspicious traffic     13380\n",
       "DDoS attack             2373\n",
       "Name: count, dtype: int64"
      ]
     },
     "execution_count": 47,
     "metadata": {},
     "output_type": "execute_result"
    }
   ],
   "source": [
    "train_df['Type'].value_counts()"
   ]
  },
  {
   "cell_type": "code",
   "execution_count": 48,
   "metadata": {},
   "outputs": [
    {
     "data": {
      "text/plain": [
       "Type\n",
       "Normal traffic        125893\n",
       "Suspicious traffic      3052\n",
       "DDoS attack             1055\n",
       "Name: count, dtype: int64"
      ]
     },
     "execution_count": 48,
     "metadata": {},
     "output_type": "execute_result"
    }
   ],
   "source": [
    "val_df['Type'].value_counts()"
   ]
  },
  {
   "cell_type": "code",
   "execution_count": 49,
   "metadata": {},
   "outputs": [],
   "source": [
    "feature_cols_1=['Packet speed', 'Data speed', 'Packet Rate', 'Data Rate', 'Packet Size to Speed Ratio', 'Data to Packet Ratio', 'Duration', 'Hour sin', 'Hour cos', 'Day of Week', 'Unique ports', 'Std packet speed', 'Max packet speed', 'Std data speed', 'Max data speed', 'Std packet length', 'Max packet length', 'Std source IP count', 'Max source IP count', 'Mean time diff', 'Std time diff', 'pca_1', 'pca_2']\n",
    "feature_cols_2 = ['Data to Packet Ratio','Packet Size to Speed Ratio','Packet speed', 'Data speed', 'Packet Rate', 'Data Rate','pca_1', 'pca_2']"
   ]
  },
  {
   "cell_type": "code",
   "execution_count": 50,
   "metadata": {},
   "outputs": [
    {
     "data": {
      "text/plain": [
       "Type\n",
       "Normal traffic        199208\n",
       "Suspicious traffic     10701\n",
       "DDoS attack             1903\n",
       "Name: count, dtype: int64"
      ]
     },
     "execution_count": 50,
     "metadata": {},
     "output_type": "execute_result"
    }
   ],
   "source": [
    "X = train_df[feature_cols_2]\n",
    "y = train_df['Type']\n",
    "\n",
    "X_train, X_test, y_train, y_test = train_test_split(X, y, test_size=0.2, random_state=42)\n",
    "y_train.value_counts()"
   ]
  },
  {
   "cell_type": "code",
   "execution_count": 51,
   "metadata": {},
   "outputs": [
    {
     "name": "stdout",
     "output_type": "stream",
     "text": [
      "Original class distribution:\n",
      "Type\n",
      "Normal traffic        199208\n",
      "Suspicious traffic     10701\n",
      "DDoS attack             1903\n",
      "Name: count, dtype: int64\n",
      "\n",
      "Resampled class distribution:\n",
      "Type\n",
      "Normal traffic        199208\n",
      "Suspicious traffic     50000\n",
      "DDoS attack             5000\n",
      "Name: count, dtype: int64\n",
      "Accuracy: 94.91%\n",
      "Recall: 76.76%\n",
      "[[  350    96    24]\n",
      " [   60 48334  1411]\n",
      " [   19  1086  1574]]\n"
     ]
    }
   ],
   "source": [
    "\n",
    "smote = SMOTE(sampling_strategy={'Normal traffic': 199208, \n",
    "                                 'Suspicious traffic': 50000, \n",
    "                                 'DDoS attack': 5000}, \n",
    "              random_state=42)\n",
    "\n",
    "# Perform the resampling\n",
    "X_smote, y_smote = smote.fit_resample(X_train, y_train)\n",
    "\n",
    "# Verify the new class distribution\n",
    "print(\"Original class distribution:\")\n",
    "print(y_train.value_counts())\n",
    "print(\"\\nResampled class distribution:\")\n",
    "print(y_smote.value_counts())\n",
    "\n",
    "# Continue with train-test split and model training\n",
    "\n",
    "\n",
    "classifier.fit(X_smote, y_smote)\n",
    "y_pred = classifier.predict(X_test)\n",
    "\n",
    "accuracy = accuracy_score(y_test, y_pred)\n",
    "print(f'Accuracy: {accuracy * 100:.2f}%')\n",
    "\n",
    "recall = recall_score(y_test, y_pred, average=\"macro\")\n",
    "print(f'Recall: {recall * 100:.2f}%')\n",
    "\n",
    "conf_matrix = confusion_matrix(y_test, y_pred)\n",
    "print(conf_matrix)"
   ]
  },
  {
   "cell_type": "code",
   "execution_count": 52,
   "metadata": {},
   "outputs": [],
   "source": [
    "X_train = train_df[feature_cols_2]\n",
    "y_train = train_df['Type']\n",
    "X_test = val_df[feature_cols_2]\n",
    "y_test = val_df['Type']\n",
    "le = LabelEncoder()\n",
    "y_train_encoded = le.fit_transform(y_train)\n",
    "y_test_encoded = le.transform(y_test)"
   ]
  },
  {
   "cell_type": "code",
   "execution_count": 53,
   "metadata": {},
   "outputs": [
    {
     "data": {
      "text/plain": [
       "1    249013\n",
       "2     13380\n",
       "0      2373\n",
       "Name: count, dtype: int64"
      ]
     },
     "execution_count": 53,
     "metadata": {},
     "output_type": "execute_result"
    }
   ],
   "source": [
    "pd.Series(y_train_encoded).value_counts()"
   ]
  },
  {
   "cell_type": "code",
   "execution_count": 54,
   "metadata": {},
   "outputs": [
    {
     "data": {
      "text/plain": [
       "1    125893\n",
       "2      3052\n",
       "0      1055\n",
       "Name: count, dtype: int64"
      ]
     },
     "execution_count": 54,
     "metadata": {},
     "output_type": "execute_result"
    }
   ],
   "source": [
    "pd.Series(y_test_encoded).value_counts()"
   ]
  },
  {
   "cell_type": "code",
   "execution_count": 55,
   "metadata": {},
   "outputs": [
    {
     "name": "stdout",
     "output_type": "stream",
     "text": [
      "Accuracy: 42.44%\n",
      "Recall: 39.70%\n",
      "[[  582   447    26]\n",
      " [71931 53940    22]\n",
      " [ 2176   232   644]]\n"
     ]
    }
   ],
   "source": [
    "from sklearn.preprocessing import StandardScaler\n",
    "scaler = StandardScaler()\n",
    "X_train_scaled = scaler.fit_transform(X_train)\n",
    "X_test_scaled = scaler.transform(X_test)\n",
    "\n",
    "classifier.fit(X_train_scaled, y_train_encoded)\n",
    "y_pred = classifier.predict(X_test_scaled)\n",
    "\n",
    "accuracy = accuracy_score(y_test_encoded, y_pred)\n",
    "print(f'Accuracy: {accuracy * 100:.2f}%')\n",
    "\n",
    "recall = recall_score(y_test_encoded, y_pred, average=\"macro\")\n",
    "print(f'Recall: {recall * 100:.2f}%')\n",
    "\n",
    "conf_matrix = confusion_matrix(y_test_encoded, y_pred)\n",
    "print(conf_matrix)"
   ]
  },
  {
   "cell_type": "code",
   "execution_count": 56,
   "metadata": {},
   "outputs": [
    {
     "data": {
      "image/png": "[encoded data removed]",
      "text/plain": [
       "<Figure size 640x480 with 1 Axes>"
      ]
     },
     "metadata": {},
     "output_type": "display_data"
    }
   ],
   "source": [
    "feature_importances = classifier.feature_importances_\n",
    "plt.barh(feature_cols_2, feature_importances)\n",
    "plt.xlabel('Feature Importance')\n",
    "plt.title('Feature Importance in Random Forest Classifier')\n",
    "plt.show()"
   ]
  },
  {
   "cell_type": "code",
   "execution_count": 57,
   "metadata": {},
   "outputs": [
    {
     "data": {
      "image/png": "[encoded data removed]",
      "text/plain": [
       "<Figure size 640x480 with 2 Axes>"
      ]
     },
     "metadata": {},
     "output_type": "display_data"
    }
   ],
   "source": [
    "from sklearn import metrics\n",
    "cm_display = metrics.ConfusionMatrixDisplay(confusion_matrix = conf_matrix)\n",
    "\n",
    "cm_display.plot()\n",
    "plt.show()"
   ]
  },
  {
   "cell_type": "code",
   "execution_count": 58,
   "metadata": {},
   "outputs": [
    {
     "name": "stdout",
     "output_type": "stream",
     "text": [
      "Accuracy: 42.83%\n",
      "Recall: 39.74%\n",
      "[[  565   471    19]\n",
      " [71466 54427     0]\n",
      " [ 2163   204   685]]\n"
     ]
    }
   ],
   "source": [
    "top_features = ['Data to Packet Ratio', 'Data speed', 'Packet speed', \n",
    "                'Packet Size to Speed Ratio', 'pca_1', 'Packet Rate', 'pca_2']\n",
    "X_train_top = X_train[top_features]\n",
    "X_test_top = X_test[top_features]\n",
    "\n",
    "# Scale these features\n",
    "scaler = StandardScaler()\n",
    "X_train_top_scaled = scaler.fit_transform(X_train_top)\n",
    "X_test_top_scaled = scaler.transform(X_test_top)\n",
    "\n",
    "# Train model with just these features\n",
    "rf_model = RandomForestClassifier(n_estimators=100, random_state=42)\n",
    "rf_model.fit(X_train_top_scaled, y_train_encoded)\n",
    "y_pred = rf_model.predict(X_test_top_scaled)\n",
    "\n",
    "accuracy = accuracy_score(y_test_encoded, y_pred)\n",
    "print(f'Accuracy: {accuracy * 100:.2f}%')\n",
    "\n",
    "recall = recall_score(y_test_encoded, y_pred, average=\"macro\")\n",
    "print(f'Recall: {recall * 100:.2f}%')\n",
    "\n",
    "conf_matrix = confusion_matrix(y_test_encoded, y_pred)\n",
    "print(conf_matrix)"
   ]
  },
  {
   "cell_type": "code",
   "execution_count": 59,
   "metadata": {},
   "outputs": [
    {
     "name": "stdout",
     "output_type": "stream",
     "text": [
      "Accuracy: 42.59%\n",
      "Recall: 46.90%\n",
      "[[  541   514]\n",
      " [74120 54825]]\n"
     ]
    }
   ],
   "source": [
    "y_train_binary = (y_train_encoded != 0).astype(int)\n",
    "y_test_binary = (y_test_encoded != 0).astype(int)\n",
    "\n",
    "# Train binary classifier\n",
    "rf_binary = RandomForestClassifier(n_estimators=100, random_state=42)\n",
    "rf_binary.fit(X_train_scaled, y_train_binary)\n",
    "y_pred = rf_binary.predict(X_test_scaled)\n",
    "\n",
    "accuracy = accuracy_score(y_test_binary, y_pred)\n",
    "print(f'Accuracy: {accuracy * 100:.2f}%')\n",
    "\n",
    "recall = recall_score(y_test_binary, y_pred, average=\"macro\")\n",
    "print(f'Recall: {recall * 100:.2f}%')\n",
    "\n",
    "conf_matrix = confusion_matrix(y_test_binary, y_pred)\n",
    "print(conf_matrix)"
   ]
  },
  {
   "cell_type": "code",
   "execution_count": null,
   "metadata": {},
   "outputs": [],
   "source": []
  }
 ],
 "metadata": {
  "kernelspec": {
   "display_name": "Python 3 (ipykernel)",
   "language": "python",
   "name": "python3"
  },
  "language_info": {
   "codemirror_mode": {
    "name": "ipython",
    "version": 3
   },
   "file_extension": ".py",
   "mimetype": "text/x-python",
   "name": "python",
   "nbconvert_exporter": "python",
   "pygments_lexer": "ipython3",
   "version": "3.10.13"
  }
 },
 "nbformat": 4,
 "nbformat_minor": 4
}
